{
 "cells": [
  {
   "cell_type": "code",
   "execution_count": 1,
   "metadata": {},
   "outputs": [],
   "source": [
    "import sys\n",
    "import time\n",
    "sys.path.insert(0, '/Users/maayanlab/Documents/GitHub/archs4py/')\n",
    "\n",
    "\n",
    "import archs4py as a4\n",
    "\n",
    "file = \"/Users/maayanlab/Downloads/human_transcript_v2.2.h5\"\n",
    "\n"
   ]
  },
  {
   "cell_type": "code",
   "execution_count": 4,
   "metadata": {},
   "outputs": [
    {
     "name": "stdout",
     "output_type": "stream",
     "text": [
      "data                      \n",
      "│ expression            uint32 | (271742, 722425)\n",
      "meta                      \n",
      "│ info                      \n",
      "│   author                str    | ()\n",
      "│   contact               str    | ()\n",
      "│   creation-date         str    | ()\n",
      "│   laboratory            str    | ()\n",
      "│   version               str    | ()\n",
      "│ samples                   \n",
      "│   channel_count         str    | (722425,)\n",
      "│   characteristics_ch1   str    | (722425,)\n",
      "│   contact_address       str    | (722425,)\n",
      "│   contact_city          str    | (722425,)\n",
      "│   contact_country       str    | (722425,)\n",
      "│   contact_institute     str    | (722425,)\n",
      "│   contact_name          str    | (722425,)\n",
      "│   contact_zip           str    | (722425,)\n",
      "│   data_processing       str    | (722425,)\n",
      "│   extract_protocol_ch1  str    | (722425,)\n",
      "│   geo_accession         str    | (722425,)\n",
      "│   instrument_model      str    | (722425,)\n",
      "│   last_update_date      str    | (722425,)\n",
      "│   library_selection     str    | (722425,)\n",
      "│   library_source        str    | (722425,)\n",
      "│   library_strategy      str    | (722425,)\n",
      "│   molecule_ch1          str    | (722425,)\n",
      "│   organism_ch1          str    | (722425,)\n",
      "│   platform_id           str    | (722425,)\n",
      "│   relation              str    | (722425,)\n",
      "│   sample                str    | (722425,)\n",
      "│   series_id             str    | (722425,)\n",
      "│   source_name_ch1       str    | (722425,)\n",
      "│   status                str    | (722425,)\n",
      "│   submission_date       str    | (722425,)\n",
      "│   taxid_ch1             str    | (722425,)\n",
      "│   title                 str    | (722425,)\n",
      "│   type                  str    | (722425,)\n",
      "│ transcripts               \n",
      "│   biotype               str    | (271742,)\n",
      "│   ensembl_gene          str    | (271742,)\n",
      "│   ensembl_id            str    | (271742,)\n",
      "│   symbol                str    | (271742,)\n"
     ]
    }
   ],
   "source": [
    "rr = a4.ls(file)"
   ]
  },
  {
   "cell_type": "code",
   "execution_count": 2,
   "metadata": {},
   "outputs": [
    {
     "name": "stderr",
     "output_type": "stream",
     "text": [
      "100%|██████████| 10/10 [00:01<00:00,  6.46it/s]\n"
     ]
    }
   ],
   "source": [
    "rr = a4.data.rand(file, 10)"
   ]
  },
  {
   "cell_type": "code",
   "execution_count": 3,
   "metadata": {},
   "outputs": [
    {
     "data": {
      "text/html": [
       "<div>\n",
       "<style scoped>\n",
       "    .dataframe tbody tr th:only-of-type {\n",
       "        vertical-align: middle;\n",
       "    }\n",
       "\n",
       "    .dataframe tbody tr th {\n",
       "        vertical-align: top;\n",
       "    }\n",
       "\n",
       "    .dataframe thead th {\n",
       "        text-align: right;\n",
       "    }\n",
       "</style>\n",
       "<table border=\"1\" class=\"dataframe\">\n",
       "  <thead>\n",
       "    <tr style=\"text-align: right;\">\n",
       "      <th></th>\n",
       "      <th>GSM2293591</th>\n",
       "      <th>GSM2684978</th>\n",
       "      <th>GSM2813387</th>\n",
       "      <th>GSM3552274</th>\n",
       "      <th>GSM4375448</th>\n",
       "      <th>GSM4852409</th>\n",
       "      <th>GSM5024608</th>\n",
       "      <th>GSM5229496</th>\n",
       "      <th>GSM5638281</th>\n",
       "      <th>GSM6434810</th>\n",
       "    </tr>\n",
       "  </thead>\n",
       "  <tbody>\n",
       "    <tr>\n",
       "      <th>ENST00000631435</th>\n",
       "      <td>0</td>\n",
       "      <td>0</td>\n",
       "      <td>0</td>\n",
       "      <td>0</td>\n",
       "      <td>0</td>\n",
       "      <td>0</td>\n",
       "      <td>0</td>\n",
       "      <td>0</td>\n",
       "      <td>0</td>\n",
       "      <td>0</td>\n",
       "    </tr>\n",
       "    <tr>\n",
       "      <th>ENST00000415118</th>\n",
       "      <td>0</td>\n",
       "      <td>0</td>\n",
       "      <td>0</td>\n",
       "      <td>0</td>\n",
       "      <td>0</td>\n",
       "      <td>0</td>\n",
       "      <td>0</td>\n",
       "      <td>0</td>\n",
       "      <td>0</td>\n",
       "      <td>0</td>\n",
       "    </tr>\n",
       "    <tr>\n",
       "      <th>ENST00000448914</th>\n",
       "      <td>0</td>\n",
       "      <td>0</td>\n",
       "      <td>0</td>\n",
       "      <td>0</td>\n",
       "      <td>0</td>\n",
       "      <td>0</td>\n",
       "      <td>0</td>\n",
       "      <td>0</td>\n",
       "      <td>0</td>\n",
       "      <td>0</td>\n",
       "    </tr>\n",
       "    <tr>\n",
       "      <th>ENST00000434970</th>\n",
       "      <td>0</td>\n",
       "      <td>0</td>\n",
       "      <td>0</td>\n",
       "      <td>0</td>\n",
       "      <td>0</td>\n",
       "      <td>0</td>\n",
       "      <td>0</td>\n",
       "      <td>0</td>\n",
       "      <td>0</td>\n",
       "      <td>0</td>\n",
       "    </tr>\n",
       "    <tr>\n",
       "      <th>ENST00000632684</th>\n",
       "      <td>0</td>\n",
       "      <td>0</td>\n",
       "      <td>0</td>\n",
       "      <td>0</td>\n",
       "      <td>0</td>\n",
       "      <td>0</td>\n",
       "      <td>0</td>\n",
       "      <td>0</td>\n",
       "      <td>0</td>\n",
       "      <td>0</td>\n",
       "    </tr>\n",
       "    <tr>\n",
       "      <th>...</th>\n",
       "      <td>...</td>\n",
       "      <td>...</td>\n",
       "      <td>...</td>\n",
       "      <td>...</td>\n",
       "      <td>...</td>\n",
       "      <td>...</td>\n",
       "      <td>...</td>\n",
       "      <td>...</td>\n",
       "      <td>...</td>\n",
       "      <td>...</td>\n",
       "    </tr>\n",
       "    <tr>\n",
       "      <th>ENST00000410465</th>\n",
       "      <td>0</td>\n",
       "      <td>0</td>\n",
       "      <td>0</td>\n",
       "      <td>0</td>\n",
       "      <td>0</td>\n",
       "      <td>0</td>\n",
       "      <td>0</td>\n",
       "      <td>0</td>\n",
       "      <td>0</td>\n",
       "      <td>0</td>\n",
       "    </tr>\n",
       "    <tr>\n",
       "      <th>ENST00000578948</th>\n",
       "      <td>3</td>\n",
       "      <td>26</td>\n",
       "      <td>0</td>\n",
       "      <td>0</td>\n",
       "      <td>0</td>\n",
       "      <td>52</td>\n",
       "      <td>0</td>\n",
       "      <td>0</td>\n",
       "      <td>0</td>\n",
       "      <td>15</td>\n",
       "    </tr>\n",
       "    <tr>\n",
       "      <th>ENST00000459254</th>\n",
       "      <td>0</td>\n",
       "      <td>7</td>\n",
       "      <td>0</td>\n",
       "      <td>0</td>\n",
       "      <td>0</td>\n",
       "      <td>0</td>\n",
       "      <td>0</td>\n",
       "      <td>0</td>\n",
       "      <td>0</td>\n",
       "      <td>4</td>\n",
       "    </tr>\n",
       "    <tr>\n",
       "      <th>ENST00000497096</th>\n",
       "      <td>0</td>\n",
       "      <td>0</td>\n",
       "      <td>2</td>\n",
       "      <td>0</td>\n",
       "      <td>0</td>\n",
       "      <td>1</td>\n",
       "      <td>0</td>\n",
       "      <td>0</td>\n",
       "      <td>0</td>\n",
       "      <td>1</td>\n",
       "    </tr>\n",
       "    <tr>\n",
       "      <th>ENST00000516993</th>\n",
       "      <td>0</td>\n",
       "      <td>0</td>\n",
       "      <td>0</td>\n",
       "      <td>0</td>\n",
       "      <td>0</td>\n",
       "      <td>0</td>\n",
       "      <td>0</td>\n",
       "      <td>0</td>\n",
       "      <td>0</td>\n",
       "      <td>0</td>\n",
       "    </tr>\n",
       "  </tbody>\n",
       "</table>\n",
       "<p>271742 rows × 10 columns</p>\n",
       "</div>"
      ],
      "text/plain": [
       "                 GSM2293591  GSM2684978  GSM2813387  GSM3552274  GSM4375448  \\\n",
       "ENST00000631435           0           0           0           0           0   \n",
       "ENST00000415118           0           0           0           0           0   \n",
       "ENST00000448914           0           0           0           0           0   \n",
       "ENST00000434970           0           0           0           0           0   \n",
       "ENST00000632684           0           0           0           0           0   \n",
       "...                     ...         ...         ...         ...         ...   \n",
       "ENST00000410465           0           0           0           0           0   \n",
       "ENST00000578948           3          26           0           0           0   \n",
       "ENST00000459254           0           7           0           0           0   \n",
       "ENST00000497096           0           0           2           0           0   \n",
       "ENST00000516993           0           0           0           0           0   \n",
       "\n",
       "                 GSM4852409  GSM5024608  GSM5229496  GSM5638281  GSM6434810  \n",
       "ENST00000631435           0           0           0           0           0  \n",
       "ENST00000415118           0           0           0           0           0  \n",
       "ENST00000448914           0           0           0           0           0  \n",
       "ENST00000434970           0           0           0           0           0  \n",
       "ENST00000632684           0           0           0           0           0  \n",
       "...                     ...         ...         ...         ...         ...  \n",
       "ENST00000410465           0           0           0           0           0  \n",
       "ENST00000578948          52           0           0           0          15  \n",
       "ENST00000459254           0           0           0           0           4  \n",
       "ENST00000497096           1           0           0           0           1  \n",
       "ENST00000516993           0           0           0           0           0  \n",
       "\n",
       "[271742 rows x 10 columns]"
      ]
     },
     "execution_count": 3,
     "metadata": {},
     "output_type": "execute_result"
    }
   ],
   "source": [
    "rr\n"
   ]
  },
  {
   "cell_type": "code",
   "execution_count": 7,
   "metadata": {},
   "outputs": [
    {
     "name": "stdout",
     "output_type": "stream",
     "text": [
      "<KeysViewHDF5 ['info', 'samples', 'transcripts']>\n"
     ]
    }
   ],
   "source": [
    "with h5.File(file) as f:\n",
    "    print(f[\"meta\"].keys())"
   ]
  },
  {
   "cell_type": "code",
   "execution_count": 5,
   "metadata": {},
   "outputs": [],
   "source": [
    "sfile = \"/Users/maayanlab/Downloads/tissue_summary.csv\"\n",
    "import pandas as pd\n",
    "ff = pd.read_csv(sfile)"
   ]
  },
  {
   "cell_type": "code",
   "execution_count": 14,
   "metadata": {},
   "outputs": [],
   "source": [
    "samples = []\n",
    "for i in range(ff.shape[0]):\n",
    "    ts = ff.iloc[i, 3].replace(\"[\", \"\").replace(\"]\", \"\").replace(\"'\", \"\").replace(\" \",\"\").split(\",\")\n",
    "    samples.extend(ts)"
   ]
  },
  {
   "cell_type": "code",
   "execution_count": 17,
   "metadata": {},
   "outputs": [
    {
     "data": {
      "text/plain": [
       "44594"
      ]
     },
     "execution_count": 17,
     "metadata": {},
     "output_type": "execute_result"
    }
   ],
   "source": [
    "len(set(samples))"
   ]
  },
  {
   "cell_type": "code",
   "execution_count": 18,
   "metadata": {},
   "outputs": [
    {
     "name": "stderr",
     "output_type": "stream",
     "text": [
      "100%|██████████| 38494/38494 [02:46<00:00, 231.84it/s]\n"
     ]
    }
   ],
   "source": [
    "data = a4.data.samples(file, list(samples))"
   ]
  },
  {
   "cell_type": "code",
   "execution_count": 19,
   "metadata": {},
   "outputs": [
    {
     "data": {
      "text/plain": [
       "(271742, 38494)"
      ]
     },
     "execution_count": 19,
     "metadata": {},
     "output_type": "execute_result"
    }
   ],
   "source": [
    "data.shape"
   ]
  },
  {
   "cell_type": "code",
   "execution_count": null,
   "metadata": {},
   "outputs": [],
   "source": [
    "\n",
    "import archs4py as a4\n",
    "import pandas as pd\n",
    "\n",
    "file = \"/Users/maayanlab/Downloads/human_transcript_v2.2.h5\"\n",
    "sfile = \"/Users/maayanlab/Downloads/tissue_summary.csv\"\n",
    "\n",
    "ff = pd.read_csv(sfile)\n",
    "\n",
    "samples = []\n",
    "for i in range(ff.shape[0]):\n",
    "    ts = ff.iloc[i, 3].replace(\"[\", \"\").replace(\"]\", \"\").replace(\"'\", \"\").replace(\" \",\"\").split(\",\")\n",
    "    samples.append(ts)\n",
    "\n",
    "# example of getting samples of first cell type\n",
    "celltype_index = 0\n",
    "data = a4.data.samples(file, samples[celltype_index])"
   ]
  }
 ],
 "metadata": {
  "kernelspec": {
   "display_name": "Python 3",
   "language": "python",
   "name": "python3"
  },
  "language_info": {
   "codemirror_mode": {
    "name": "ipython",
    "version": 3
   },
   "file_extension": ".py",
   "mimetype": "text/x-python",
   "name": "python",
   "nbconvert_exporter": "python",
   "pygments_lexer": "ipython3",
   "version": "3.9.6"
  }
 },
 "nbformat": 4,
 "nbformat_minor": 2
}
